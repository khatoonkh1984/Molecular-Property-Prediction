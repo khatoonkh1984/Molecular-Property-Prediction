{
 "cells": [
  {
   "cell_type": "markdown",
   "id": "67ed96ae",
   "metadata": {},
   "source": [
    "The Blood-brain barrier penetration (BBBP)\n",
    "--------------------------------------------------------------"
   ]
  },
  {
   "cell_type": "markdown",
   "id": "569199c6",
   "metadata": {},
   "source": [
    "### All libraries we need"
   ]
  },
  {
   "cell_type": "code",
   "execution_count": 1,
   "id": "aefb22ac",
   "metadata": {},
   "outputs": [],
   "source": [
    "import os\n",
    "import os.path as osp\n",
    "import shutil\n",
    "import numpy as np\n",
    "import matplotlib.pyplot as plt\n",
    "import pandas as pd\n",
    "\n",
    "\n",
    "import torch\n",
    "import torch.nn as nn\n",
    "from torch.optim import Adam\n",
    "\n",
    "#********************************************************#\n",
    "'''\n",
    "load_dataset contain lots of functions for loading several datasets and \n",
    "also there is a function as name get_ dataloader for generating a\n",
    "dictionary of training, validation, and testing dataLoader.\n",
    "'''\n",
    "from load_dataset import get_dataset, get_dataloader\n",
    "\n",
    "#********************************************************#\n",
    "'''\n",
    "As we need several arguments for training process, we store all argument in configure file. \n",
    "For using this file, you need the library'Typed Argument Parser (Tap). So you need 'pip install typed-argument-parser'. \n",
    "'''\n",
    "from Configures import data_args, train_args, model_args"
   ]
  },
  {
   "cell_type": "code",
   "execution_count": null,
   "id": "c60eef72",
   "metadata": {},
   "outputs": [],
   "source": []
  },
  {
   "cell_type": "markdown",
   "id": "8158a95b",
   "metadata": {},
   "source": [
    "### start loading data"
   ]
  },
  {
   "cell_type": "code",
   "execution_count": 2,
   "id": "923ed963",
   "metadata": {},
   "outputs": [
    {
     "name": "stdout",
     "output_type": "stream",
     "text": [
      "bbbp\n",
      "/datasets\n"
     ]
    }
   ],
   "source": [
    "print(data_args.dataset_name)\n",
    "print(data_args.dataset_dir)\n",
    "\n"
   ]
  },
  {
   "cell_type": "code",
   "execution_count": 4,
   "id": "3de96ef1",
   "metadata": {},
   "outputs": [
    {
     "name": "stdout",
     "output_type": "stream",
     "text": [
      "9\n",
      "2\n"
     ]
    }
   ],
   "source": [
    "dataset = get_dataset(data_args.dataset_dir, data_args.dataset_name)\n",
    "input_dim = dataset.num_node_features\n",
    "output_dim = int(dataset.num_classes)\n",
    "\n",
    "\n",
    "print(input_dim)\n",
    "print(output_dim)"
   ]
  },
  {
   "cell_type": "code",
   "execution_count": null,
   "id": "c34a8507",
   "metadata": {},
   "outputs": [],
   "source": [
    "edge_index.numpy().size> 0"
   ]
  },
  {
   "cell_type": "code",
   "execution_count": 11,
   "id": "8df57bac",
   "metadata": {},
   "outputs": [
    {
     "name": "stdout",
     "output_type": "stream",
     "text": [
      "[]\n"
     ]
    },
    {
     "data": {
      "text/plain": [
       "True"
      ]
     },
     "execution_count": 11,
     "metadata": {},
     "output_type": "execute_result"
    }
   ],
   "source": [
    "print(dataset[59].edge_index.numpy())\n",
    "dataset[59].edge_index.numpy().size==0"
   ]
  },
  {
   "cell_type": "markdown",
   "id": "e49f41cf",
   "metadata": {},
   "source": [
    "### Data Analysis"
   ]
  },
  {
   "cell_type": "code",
   "execution_count": 7,
   "id": "b4c01c5f",
   "metadata": {},
   "outputs": [
    {
     "name": "stdout",
     "output_type": "stream",
     "text": [
      "graphs 2050, avg_nodes23.9356, avg_edge_index_25.8151\n",
      "The total num of dataset is 2050\n"
     ]
    }
   ],
   "source": [
    "avg_nodes = 0.0\n",
    "avg_edge_index = 0.0\n",
    "for i in range(len(dataset)):\n",
    "    avg_nodes += dataset[i].x.shape[0]\n",
    "    avg_edge_index += dataset[i].edge_index.shape[1]\n",
    "avg_nodes /= len(dataset)\n",
    "avg_edge_index /= len(dataset)\n",
    "print(f\"graphs {len(dataset)}, avg_nodes{avg_nodes :.4f}, avg_edge_index_{avg_edge_index/2 :.4f}\")\n",
    "\n",
    "best_acc = 0.0\n",
    "data_size = len(dataset)\n",
    "print(f'The total num of dataset is {data_size}')\n",
    "\n"
   ]
  },
  {
   "cell_type": "code",
   "execution_count": 8,
   "id": "500f4d84",
   "metadata": {},
   "outputs": [
    {
     "name": "stdout",
     "output_type": "stream",
     "text": [
      "The shape of the dataset is: (2050, 4)\n",
      "The columns of the dataset are: Index(['num', 'name', 'p_np', 'smiles'], dtype='object')\n",
      "The summary statistics of the dataset are:\n",
      "               num         p_np\n",
      "count  2050.000000  2050.000000\n",
      "mean   1027.376098     0.764390\n",
      "std     592.836849     0.424483\n",
      "min       1.000000     0.000000\n",
      "25%     514.250000     1.000000\n",
      "50%    1026.500000     1.000000\n",
      "75%    1540.750000     1.000000\n",
      "max    2053.000000     1.000000\n",
      "Some sample rows of the dataset are:\n"
     ]
    },
    {
     "data": {
      "text/html": [
       "<div>\n",
       "<style scoped>\n",
       "    .dataframe tbody tr th:only-of-type {\n",
       "        vertical-align: middle;\n",
       "    }\n",
       "\n",
       "    .dataframe tbody tr th {\n",
       "        vertical-align: top;\n",
       "    }\n",
       "\n",
       "    .dataframe thead th {\n",
       "        text-align: right;\n",
       "    }\n",
       "</style>\n",
       "<table border=\"1\" class=\"dataframe\">\n",
       "  <thead>\n",
       "    <tr style=\"text-align: right;\">\n",
       "      <th></th>\n",
       "      <th>num</th>\n",
       "      <th>name</th>\n",
       "      <th>p_np</th>\n",
       "      <th>smiles</th>\n",
       "    </tr>\n",
       "  </thead>\n",
       "  <tbody>\n",
       "    <tr>\n",
       "      <th>0</th>\n",
       "      <td>1</td>\n",
       "      <td>Propanolol</td>\n",
       "      <td>1</td>\n",
       "      <td>[Cl].CC(C)NCC(O)COc1cccc2ccccc12</td>\n",
       "    </tr>\n",
       "    <tr>\n",
       "      <th>1</th>\n",
       "      <td>2</td>\n",
       "      <td>Terbutylchlorambucil</td>\n",
       "      <td>1</td>\n",
       "      <td>C(=O)(OC(C)(C)C)CCCc1ccc(cc1)N(CCCl)CCCl</td>\n",
       "    </tr>\n",
       "    <tr>\n",
       "      <th>2</th>\n",
       "      <td>3</td>\n",
       "      <td>40730</td>\n",
       "      <td>1</td>\n",
       "      <td>c12c3c(N4CCN(C)CC4)c(F)cc1c(c(C(O)=O)cn2C(C)CO...</td>\n",
       "    </tr>\n",
       "    <tr>\n",
       "      <th>3</th>\n",
       "      <td>4</td>\n",
       "      <td>24</td>\n",
       "      <td>1</td>\n",
       "      <td>C1CCN(CC1)Cc1cccc(c1)OCCCNC(=O)C</td>\n",
       "    </tr>\n",
       "    <tr>\n",
       "      <th>4</th>\n",
       "      <td>5</td>\n",
       "      <td>cloxacillin</td>\n",
       "      <td>1</td>\n",
       "      <td>Cc1onc(c2ccccc2Cl)c1C(=O)N[C@H]3[C@H]4SC(C)(C)...</td>\n",
       "    </tr>\n",
       "  </tbody>\n",
       "</table>\n",
       "</div>"
      ],
      "text/plain": [
       "   num                  name  p_np  \\\n",
       "0    1            Propanolol     1   \n",
       "1    2  Terbutylchlorambucil     1   \n",
       "2    3                 40730     1   \n",
       "3    4                    24     1   \n",
       "4    5           cloxacillin     1   \n",
       "\n",
       "                                              smiles  \n",
       "0                   [Cl].CC(C)NCC(O)COc1cccc2ccccc12  \n",
       "1           C(=O)(OC(C)(C)C)CCCc1ccc(cc1)N(CCCl)CCCl  \n",
       "2  c12c3c(N4CCN(C)CC4)c(F)cc1c(c(C(O)=O)cn2C(C)CO...  \n",
       "3                   C1CCN(CC1)Cc1cccc(c1)OCCCNC(=O)C  \n",
       "4  Cc1onc(c2ccccc2Cl)c1C(=O)N[C@H]3[C@H]4SC(C)(C)...  "
      ]
     },
     "execution_count": 8,
     "metadata": {},
     "output_type": "execute_result"
    }
   ],
   "source": [
    "\n",
    "\n",
    "# Read the CSV file\n",
    "df = pd.read_csv('datasets/bbbp/raw/BBBP.csv')\n",
    "\n",
    "# Print the shape of the dataset\n",
    "print(\"The shape of the dataset is:\", df.shape)\n",
    "\n",
    "# Print the columns of the dataset\n",
    "print(\"The columns of the dataset are:\", df.columns)\n",
    "\n",
    "# Print the summary statistics of the dataset\n",
    "print(\"The summary statistics of the dataset are:\")\n",
    "print(df.describe())\n",
    "\n",
    "# Print some sample rows of the dataset\n",
    "print(\"Some sample rows of the dataset are:\")\n",
    "df.head(5)"
   ]
  },
  {
   "cell_type": "code",
   "execution_count": 24,
   "id": "79e3b59d",
   "metadata": {},
   "outputs": [
    {
     "data": {
      "text/plain": [
       "59           O=N([O-])C1=C(CN=C1NCCSCc2ncccc2)Cc3ccccc3\n",
       "60    [Cl-].CN[C@H]1CC[C@@H](c2ccc(Cl)c(Cl)c2)c3cccc...\n",
       "61             c1(nc(NC(N)=[NH2])sc1)CSCCNC(=[NH]C#N)NC\n",
       "62    CC[C@]1(O)C[C@H]2CN(CCc3c([nH]c4ccccc34)[C@@](...\n",
       "63       CCC(NC(=O)c1c(c(nc2c1cccc2)c1ccccc1)C)c1ccccc1\n",
       "64    ClC1=CC=CC(OC2CCN(CCC3CCCN3S(C4=CC(N([H])C=C5)...\n",
       "Name: smiles, dtype: object"
      ]
     },
     "execution_count": 24,
     "metadata": {},
     "output_type": "execute_result"
    }
   ],
   "source": [
    "df[\"smiles\"][59:65]"
   ]
  },
  {
   "cell_type": "markdown",
   "id": "ecd238d7",
   "metadata": {},
   "source": [
    "### Visualizing"
   ]
  },
  {
   "cell_type": "code",
   "execution_count": 12,
   "id": "fb0ee972",
   "metadata": {},
   "outputs": [
    {
     "data": {
      "image/png": "[encoded data removed]",
      "text/plain": [
       "<IPython.core.display.Image object>"
      ]
     },
     "execution_count": 12,
     "metadata": {},
     "output_type": "execute_result"
    }
   ],
   "source": [
    "import pandas as pd\n",
    "from rdkit import Chem\n",
    "from rdkit.Chem import Draw\n",
    "\n",
    "# Read the CSV file\n",
    "df = pd.read_csv('datasets/bbbp/raw/BBBP.csv')\n",
    "\n",
    "# Extract the SMILES strings and names of the first 10 compounds\n",
    "smiles_list = df[\"smiles\"][:10].tolist()\n",
    "name_list = df[\"name\"][:10].tolist()\n",
    "\n",
    "# Convert the SMILES strings into RDKit molecule objects\n",
    "mol_list = [Chem.MolFromSmiles(smiles) for smiles in smiles_list]\n",
    "\n",
    "# Create a grid image with 2 rows and 5 columns and put the names as legends\n",
    "img = Draw.MolsToGridImage(mol_list, molsPerRow=5, legends=name_list)\n",
    "img"
   ]
  },
  {
   "cell_type": "markdown",
   "id": "45512936",
   "metadata": {},
   "source": [
    "### Preprocessing and cleaning dataset"
   ]
  },
  {
   "cell_type": "code",
   "execution_count": 31,
   "id": "0f2355e7",
   "metadata": {},
   "outputs": [
    {
     "name": "stdout",
     "output_type": "stream",
     "text": [
      "The number of graphs after cleaning dataset is: 2039\n"
     ]
    }
   ],
   "source": [
    "#cleaned_dataset = [graph for graph in dataset if graph.edge_index.numpy()!=[]]\n",
    "cleaned_dataset = [graph for graph in dataset if graph.edge_index.numpy().size> 0]\n",
    "cleaned_dataset_len=len(cleaned_dataset)\n",
    "print(f'The number of graphs after cleaning dataset is: {cleaned_dataset_len}')"
   ]
  },
  {
   "cell_type": "code",
   "execution_count": 32,
   "id": "d93720bb",
   "metadata": {},
   "outputs": [
    {
     "name": "stderr",
     "output_type": "stream",
     "text": [
      "C:\\Users\\Dell\\AppData\\Local\\Programs\\Python\\Python310\\lib\\site-packages\\torch_geometric\\deprecation.py:22: UserWarning: 'data.DataLoader' is deprecated, use 'loader.DataLoader' instead\n",
      "  warnings.warn(out)\n"
     ]
    }
   ],
   "source": [
    "dataloader=get_dataloader(cleaned_dataset, batch_size=train_args.batch_size, random_split_flag=True, data_split_ratio=[0.8, 0.1, 0.1], seed=2)"
   ]
  },
  {
   "cell_type": "markdown",
   "id": "f6ca2b39",
   "metadata": {},
   "source": [
    "### Traninig Process"
   ]
  },
  {
   "cell_type": "code",
   "execution_count": 25,
   "id": "91c8a155",
   "metadata": {},
   "outputs": [
    {
     "data": {
      "text/plain": [
       "'gcn'"
      ]
     },
     "execution_count": 25,
     "metadata": {},
     "output_type": "execute_result"
    }
   ],
   "source": [
    "model_args.model_name.lower()"
   ]
  },
  {
   "cell_type": "code",
   "execution_count": 26,
   "id": "9be25f0b",
   "metadata": {},
   "outputs": [],
   "source": [
    "from GCN import GCNNet\n",
    "\n",
    "def get_model(input_dim, output_dim, model_args):\n",
    "    if model_args.model_name.lower() == 'gcn':\n",
    "        return GCNNet(input_dim, output_dim, model_args)\n",
    "    elif model_args.model_name.lower() == 'gat':\n",
    "        return GATNet(input_dim, output_dim, model_args)\n",
    "    elif model_args.model_name.lower() == 'gin':\n",
    "        return GINNet(input_dim, output_dim, model_args)\n",
    "    else:\n",
    "        raise NotImplementedError\n",
    "        \n",
    "\n",
    "\n",
    "class GnnBase(nn.Module):\n",
    "    def __init__(self):\n",
    "        super(GnnBase, self).__init__()\n",
    "\n",
    "    def forward(self, data):\n",
    "        data = data.to(self.device)\n",
    "        logits, prob, emb = self.model(data)\n",
    "        return logits, prob, emb\n",
    "\n",
    "    def update_state_dict(self, state_dict):\n",
    "        original_state_dict = self.state_dict()\n",
    "        loaded_state_dict = dict()\n",
    "        for k, v in state_dict.items():\n",
    "            if k in original_state_dict.keys():\n",
    "                loaded_state_dict[k] = v\n",
    "        self.load_state_dict(loaded_state_dict)\n",
    "\n",
    "    def to_device(self):\n",
    "        self.to(self.device)\n",
    "\n",
    "    def save_state_dict(self):\n",
    "        pass\n",
    "\n",
    "\n",
    "class GnnNets(GnnBase):\n",
    "    def __init__(self, input_dim, output_dim, model_args):\n",
    "        super(GnnNets, self).__init__()\n",
    "        self.model = get_model(input_dim, output_dim, model_args)\n",
    "        self.device = model_args.device\n",
    "\n",
    "    def forward(self, data):\n",
    "        data = data.to(self.device)\n",
    "        logits, prob, emb = self.model(data)\n",
    "        return logits, prob, emb\n",
    "\n"
   ]
  },
  {
   "cell_type": "code",
   "execution_count": 27,
   "id": "0bbf408f",
   "metadata": {},
   "outputs": [],
   "source": [
    "gnnNets = GnnNets(input_dim, output_dim, model_args)\n",
    "gnnNets.to_device()\n",
    "criterion = nn.CrossEntropyLoss()\n",
    "optimizer = Adam(gnnNets.parameters(), lr=train_args.learning_rate, weight_decay=train_args.weight_decay)"
   ]
  },
  {
   "cell_type": "code",
   "execution_count": 28,
   "id": "c2c39753",
   "metadata": {},
   "outputs": [],
   "source": [
    "def evaluate_GC(eval_dataloader, gnnNets, criterion):\n",
    "    acc = []\n",
    "    loss_list = []\n",
    "    gnnNets.eval()\n",
    "    with torch.no_grad():\n",
    "        for batch in eval_dataloader:\n",
    "            logits, probs, _ = gnnNets(batch)\n",
    "            loss = criterion(logits, batch.y)\n",
    "\n",
    "            ## record\n",
    "            _, prediction = torch.max(logits, -1)\n",
    "            loss_list.append(loss.item())\n",
    "            acc.append(prediction.eq(batch.y).cpu().numpy())\n",
    "\n",
    "        eval_state = {'loss': np.average(loss_list),\n",
    "                      'acc': np.concatenate(acc, axis=0).mean()}\n",
    "\n",
    "    return eval_state\n",
    "\n",
    "\n",
    "def test_GC(test_dataloader, gnnNets, criterion):\n",
    "    acc = []\n",
    "    loss_list = []\n",
    "    pred_probs = []\n",
    "    predictions = []\n",
    "    gnnNets.eval()\n",
    "    with torch.no_grad():\n",
    "        for batch in test_dataloader:\n",
    "            logits, probs, _ = gnnNets(batch)\n",
    "            loss = criterion(logits, batch.y)\n",
    "\n",
    "            # record\n",
    "            _, prediction = torch.max(logits, -1)\n",
    "            loss_list.append(loss.item())\n",
    "            acc.append(prediction.eq(batch.y).cpu().numpy())\n",
    "            predictions.append(prediction)\n",
    "            pred_probs.append(probs)\n",
    "\n",
    "    test_state = {'loss': np.average(loss_list),\n",
    "                  'acc': np.average(np.concatenate(acc, axis=0).mean())}\n",
    "\n",
    "    pred_probs = torch.cat(pred_probs, dim=0).cpu().detach().numpy()\n",
    "    predictions = torch.cat(predictions, dim=0).cpu().detach().numpy()\n",
    "    return test_state, pred_probs, predictions\n",
    "\n",
    "def save_best(ckpt_dir, epoch, gnnNets, model_name, eval_acc, is_best):\n",
    "    print('saving....')\n",
    "    gnnNets.to('cpu')\n",
    "    state = {\n",
    "        'net': gnnNets.state_dict(),\n",
    "        'epoch': epoch,\n",
    "        'acc': eval_acc\n",
    "    }\n",
    "    pth_name = f\"{model_name}_latest.pth\"\n",
    "    best_pth_name = f'{model_name}_best.pth'\n",
    "    ckpt_path = os.path.join(ckpt_dir, pth_name)\n",
    "    torch.save(state, ckpt_path)\n",
    "    if is_best:\n",
    "        shutil.copy(ckpt_path, os.path.join(ckpt_dir, best_pth_name))\n",
    "    gnnNets.to_device()"
   ]
  },
  {
   "cell_type": "markdown",
   "id": "15f7ea44",
   "metadata": {},
   "source": [
    "### save path for model"
   ]
  },
  {
   "cell_type": "code",
   "execution_count": 29,
   "id": "39ac0726",
   "metadata": {},
   "outputs": [],
   "source": [
    "\n",
    "if not os.path.isdir('checkpoint'):\n",
    "    os.mkdir('checkpoint')\n",
    "if not os.path.isdir(os.path.join('checkpoint', data_args.dataset_name)):\n",
    "    os.mkdir(os.path.join('checkpoint', f\"{data_args.dataset_name}\"))\n",
    "ckpt_dir = f\"./checkpoint/{data_args.dataset_name}/\"\n",
    "\n"
   ]
  },
  {
   "cell_type": "markdown",
   "id": "4829495e",
   "metadata": {},
   "source": [
    "#### Training"
   ]
  },
  {
   "cell_type": "code",
   "execution_count": 33,
   "id": "ef551e22",
   "metadata": {},
   "outputs": [
    {
     "name": "stdout",
     "output_type": "stream",
     "text": [
      "Train Epoch:0  |Loss: 0.582 | Acc: 0.773\n",
      "Eval Epoch: 0 | Loss: 0.545 | Acc: 0.754\n",
      "saving....\n",
      "Train Epoch:1  |Loss: 0.545 | Acc: 0.773\n",
      "Eval Epoch: 1 | Loss: 0.539 | Acc: 0.754\n",
      "Train Epoch:2  |Loss: 0.528 | Acc: 0.773\n",
      "Eval Epoch: 2 | Loss: 0.530 | Acc: 0.754\n",
      "Train Epoch:3  |Loss: 0.501 | Acc: 0.774\n",
      "Eval Epoch: 3 | Loss: 0.482 | Acc: 0.803\n",
      "saving....\n",
      "Train Epoch:4  |Loss: 0.477 | Acc: 0.782\n",
      "Eval Epoch: 4 | Loss: 0.457 | Acc: 0.833\n",
      "saving....\n",
      "Train Epoch:5  |Loss: 0.477 | Acc: 0.799\n",
      "Eval Epoch: 5 | Loss: 0.481 | Acc: 0.768\n",
      "Train Epoch:6  |Loss: 0.463 | Acc: 0.806\n",
      "Eval Epoch: 6 | Loss: 0.461 | Acc: 0.798\n",
      "Train Epoch:7  |Loss: 0.451 | Acc: 0.812\n",
      "Eval Epoch: 7 | Loss: 0.430 | Acc: 0.828\n",
      "Train Epoch:8  |Loss: 0.454 | Acc: 0.807\n",
      "Eval Epoch: 8 | Loss: 0.447 | Acc: 0.808\n",
      "Train Epoch:9  |Loss: 0.447 | Acc: 0.815\n",
      "Eval Epoch: 9 | Loss: 0.428 | Acc: 0.842\n",
      "saving....\n",
      "Train Epoch:10  |Loss: 0.455 | Acc: 0.808\n",
      "Eval Epoch: 10 | Loss: 0.509 | Acc: 0.803\n",
      "saving....\n",
      "Train Epoch:11  |Loss: 0.470 | Acc: 0.811\n",
      "Eval Epoch: 11 | Loss: 0.444 | Acc: 0.837\n",
      "Train Epoch:12  |Loss: 0.435 | Acc: 0.826\n",
      "Eval Epoch: 12 | Loss: 0.440 | Acc: 0.808\n",
      "Train Epoch:13  |Loss: 0.436 | Acc: 0.815\n",
      "Eval Epoch: 13 | Loss: 0.416 | Acc: 0.837\n",
      "Train Epoch:14  |Loss: 0.443 | Acc: 0.820\n",
      "Eval Epoch: 14 | Loss: 0.490 | Acc: 0.783\n",
      "Train Epoch:15  |Loss: 0.447 | Acc: 0.819\n",
      "Eval Epoch: 15 | Loss: 0.412 | Acc: 0.837\n",
      "Train Epoch:16  |Loss: 0.436 | Acc: 0.821\n",
      "Eval Epoch: 16 | Loss: 0.429 | Acc: 0.842\n",
      "Train Epoch:17  |Loss: 0.424 | Acc: 0.832\n",
      "Eval Epoch: 17 | Loss: 0.429 | Acc: 0.828\n",
      "Train Epoch:18  |Loss: 0.423 | Acc: 0.826\n",
      "Eval Epoch: 18 | Loss: 0.415 | Acc: 0.842\n",
      "Train Epoch:19  |Loss: 0.432 | Acc: 0.824\n",
      "Eval Epoch: 19 | Loss: 0.407 | Acc: 0.837\n",
      "Train Epoch:20  |Loss: 0.427 | Acc: 0.824\n",
      "Eval Epoch: 20 | Loss: 0.408 | Acc: 0.852\n",
      "saving....\n",
      "Train Epoch:21  |Loss: 0.428 | Acc: 0.825\n",
      "Eval Epoch: 21 | Loss: 0.469 | Acc: 0.798\n",
      "Train Epoch:22  |Loss: 0.428 | Acc: 0.822\n",
      "Eval Epoch: 22 | Loss: 0.398 | Acc: 0.837\n",
      "Train Epoch:23  |Loss: 0.404 | Acc: 0.826\n",
      "Eval Epoch: 23 | Loss: 0.375 | Acc: 0.852\n",
      "Train Epoch:24  |Loss: 0.399 | Acc: 0.838\n",
      "Eval Epoch: 24 | Loss: 0.377 | Acc: 0.852\n",
      "Train Epoch:25  |Loss: 0.408 | Acc: 0.832\n",
      "Eval Epoch: 25 | Loss: 0.370 | Acc: 0.852\n",
      "Train Epoch:26  |Loss: 0.412 | Acc: 0.834\n",
      "Eval Epoch: 26 | Loss: 0.404 | Acc: 0.847\n",
      "Train Epoch:27  |Loss: 0.412 | Acc: 0.826\n",
      "Eval Epoch: 27 | Loss: 0.382 | Acc: 0.852\n",
      "Train Epoch:28  |Loss: 0.397 | Acc: 0.833\n",
      "Eval Epoch: 28 | Loss: 0.359 | Acc: 0.862\n",
      "saving....\n",
      "Train Epoch:29  |Loss: 0.389 | Acc: 0.838\n",
      "Eval Epoch: 29 | Loss: 0.371 | Acc: 0.847\n",
      "Train Epoch:30  |Loss: 0.384 | Acc: 0.838\n",
      "Eval Epoch: 30 | Loss: 0.360 | Acc: 0.872\n",
      "saving....\n",
      "Train Epoch:31  |Loss: 0.378 | Acc: 0.843\n",
      "Eval Epoch: 31 | Loss: 0.366 | Acc: 0.867\n",
      "Train Epoch:32  |Loss: 0.398 | Acc: 0.834\n",
      "Eval Epoch: 32 | Loss: 0.400 | Acc: 0.852\n",
      "Train Epoch:33  |Loss: 0.395 | Acc: 0.832\n",
      "Eval Epoch: 33 | Loss: 0.356 | Acc: 0.867\n",
      "Train Epoch:34  |Loss: 0.383 | Acc: 0.843\n",
      "Eval Epoch: 34 | Loss: 0.355 | Acc: 0.852\n",
      "Train Epoch:35  |Loss: 0.366 | Acc: 0.848\n",
      "Eval Epoch: 35 | Loss: 0.344 | Acc: 0.877\n",
      "saving....\n",
      "Train Epoch:36  |Loss: 0.409 | Acc: 0.825\n",
      "Eval Epoch: 36 | Loss: 0.358 | Acc: 0.847\n",
      "Train Epoch:37  |Loss: 0.376 | Acc: 0.842\n",
      "Eval Epoch: 37 | Loss: 0.361 | Acc: 0.877\n",
      "Train Epoch:38  |Loss: 0.374 | Acc: 0.850\n",
      "Eval Epoch: 38 | Loss: 0.362 | Acc: 0.857\n",
      "Train Epoch:39  |Loss: 0.364 | Acc: 0.854\n",
      "Eval Epoch: 39 | Loss: 0.337 | Acc: 0.887\n",
      "saving....\n",
      "Train Epoch:40  |Loss: 0.382 | Acc: 0.841\n",
      "Eval Epoch: 40 | Loss: 0.346 | Acc: 0.862\n",
      "saving....\n",
      "Train Epoch:41  |Loss: 0.354 | Acc: 0.853\n",
      "Eval Epoch: 41 | Loss: 0.372 | Acc: 0.857\n",
      "Train Epoch:42  |Loss: 0.365 | Acc: 0.849\n",
      "Eval Epoch: 42 | Loss: 0.341 | Acc: 0.872\n",
      "Train Epoch:43  |Loss: 0.366 | Acc: 0.852\n",
      "Eval Epoch: 43 | Loss: 0.337 | Acc: 0.867\n",
      "Train Epoch:44  |Loss: 0.351 | Acc: 0.860\n",
      "Eval Epoch: 44 | Loss: 0.347 | Acc: 0.872\n",
      "Train Epoch:45  |Loss: 0.357 | Acc: 0.847\n",
      "Eval Epoch: 45 | Loss: 0.359 | Acc: 0.862\n",
      "Train Epoch:46  |Loss: 0.360 | Acc: 0.846\n",
      "Eval Epoch: 46 | Loss: 0.365 | Acc: 0.852\n",
      "Train Epoch:47  |Loss: 0.356 | Acc: 0.850\n",
      "Eval Epoch: 47 | Loss: 0.335 | Acc: 0.847\n",
      "Train Epoch:48  |Loss: 0.358 | Acc: 0.845\n",
      "Eval Epoch: 48 | Loss: 0.366 | Acc: 0.847\n",
      "Train Epoch:49  |Loss: 0.349 | Acc: 0.848\n",
      "Eval Epoch: 49 | Loss: 0.332 | Acc: 0.857\n",
      "Train Epoch:50  |Loss: 0.347 | Acc: 0.853\n",
      "Eval Epoch: 50 | Loss: 0.327 | Acc: 0.862\n",
      "saving....\n",
      "Train Epoch:51  |Loss: 0.349 | Acc: 0.856\n",
      "Eval Epoch: 51 | Loss: 0.330 | Acc: 0.867\n",
      "Train Epoch:52  |Loss: 0.338 | Acc: 0.859\n",
      "Eval Epoch: 52 | Loss: 0.343 | Acc: 0.872\n",
      "Train Epoch:53  |Loss: 0.343 | Acc: 0.858\n",
      "Eval Epoch: 53 | Loss: 0.354 | Acc: 0.857\n",
      "Train Epoch:54  |Loss: 0.339 | Acc: 0.860\n",
      "Eval Epoch: 54 | Loss: 0.359 | Acc: 0.842\n",
      "Train Epoch:55  |Loss: 0.332 | Acc: 0.861\n",
      "Eval Epoch: 55 | Loss: 0.360 | Acc: 0.852\n",
      "Train Epoch:56  |Loss: 0.342 | Acc: 0.862\n",
      "Eval Epoch: 56 | Loss: 0.337 | Acc: 0.872\n",
      "Train Epoch:57  |Loss: 0.347 | Acc: 0.849\n",
      "Eval Epoch: 57 | Loss: 0.317 | Acc: 0.872\n",
      "Train Epoch:58  |Loss: 0.340 | Acc: 0.858\n",
      "Eval Epoch: 58 | Loss: 0.358 | Acc: 0.857\n",
      "Train Epoch:59  |Loss: 0.340 | Acc: 0.861\n",
      "Eval Epoch: 59 | Loss: 0.323 | Acc: 0.867\n",
      "Train Epoch:60  |Loss: 0.321 | Acc: 0.868\n",
      "Eval Epoch: 60 | Loss: 0.330 | Acc: 0.877\n",
      "saving....\n",
      "Train Epoch:61  |Loss: 0.314 | Acc: 0.870\n",
      "Eval Epoch: 61 | Loss: 0.314 | Acc: 0.862\n",
      "Train Epoch:62  |Loss: 0.316 | Acc: 0.868\n",
      "Eval Epoch: 62 | Loss: 0.326 | Acc: 0.857\n",
      "Train Epoch:63  |Loss: 0.325 | Acc: 0.865\n",
      "Eval Epoch: 63 | Loss: 0.323 | Acc: 0.862\n",
      "Train Epoch:64  |Loss: 0.317 | Acc: 0.872\n",
      "Eval Epoch: 64 | Loss: 0.303 | Acc: 0.872\n",
      "Train Epoch:65  |Loss: 0.311 | Acc: 0.879\n",
      "Eval Epoch: 65 | Loss: 0.316 | Acc: 0.901\n",
      "saving....\n",
      "Train Epoch:66  |Loss: 0.319 | Acc: 0.872\n",
      "Eval Epoch: 66 | Loss: 0.336 | Acc: 0.857\n",
      "Train Epoch:67  |Loss: 0.319 | Acc: 0.874\n",
      "Eval Epoch: 67 | Loss: 0.305 | Acc: 0.892\n",
      "Train Epoch:68  |Loss: 0.318 | Acc: 0.871\n",
      "Eval Epoch: 68 | Loss: 0.354 | Acc: 0.852\n",
      "Train Epoch:69  |Loss: 0.333 | Acc: 0.863\n",
      "Eval Epoch: 69 | Loss: 0.302 | Acc: 0.882\n",
      "Train Epoch:70  |Loss: 0.298 | Acc: 0.880\n",
      "Eval Epoch: 70 | Loss: 0.331 | Acc: 0.862\n",
      "saving....\n",
      "Train Epoch:71  |Loss: 0.332 | Acc: 0.865\n",
      "Eval Epoch: 71 | Loss: 0.311 | Acc: 0.867\n",
      "Train Epoch:72  |Loss: 0.310 | Acc: 0.876\n",
      "Eval Epoch: 72 | Loss: 0.343 | Acc: 0.837\n",
      "Train Epoch:73  |Loss: 0.299 | Acc: 0.877\n",
      "Eval Epoch: 73 | Loss: 0.295 | Acc: 0.901\n",
      "Train Epoch:74  |Loss: 0.313 | Acc: 0.877\n",
      "Eval Epoch: 74 | Loss: 0.313 | Acc: 0.852\n",
      "Train Epoch:75  |Loss: 0.305 | Acc: 0.880\n",
      "Eval Epoch: 75 | Loss: 0.304 | Acc: 0.882\n",
      "Train Epoch:76  |Loss: 0.321 | Acc: 0.858\n",
      "Eval Epoch: 76 | Loss: 0.330 | Acc: 0.852\n",
      "Train Epoch:77  |Loss: 0.312 | Acc: 0.873\n",
      "Eval Epoch: 77 | Loss: 0.356 | Acc: 0.837\n",
      "Train Epoch:78  |Loss: 0.316 | Acc: 0.874\n",
      "Eval Epoch: 78 | Loss: 0.331 | Acc: 0.867\n",
      "Train Epoch:79  |Loss: 0.367 | Acc: 0.839\n",
      "Eval Epoch: 79 | Loss: 0.342 | Acc: 0.872\n",
      "Train Epoch:80  |Loss: 0.329 | Acc: 0.869\n",
      "Eval Epoch: 80 | Loss: 0.311 | Acc: 0.877\n",
      "saving....\n",
      "Train Epoch:81  |Loss: 0.297 | Acc: 0.887\n",
      "Eval Epoch: 81 | Loss: 0.296 | Acc: 0.882\n",
      "Train Epoch:82  |Loss: 0.298 | Acc: 0.882\n",
      "Eval Epoch: 82 | Loss: 0.300 | Acc: 0.857\n",
      "Train Epoch:83  |Loss: 0.303 | Acc: 0.880\n",
      "Eval Epoch: 83 | Loss: 0.290 | Acc: 0.867\n",
      "Train Epoch:84  |Loss: 0.311 | Acc: 0.876\n",
      "Eval Epoch: 84 | Loss: 0.349 | Acc: 0.872\n",
      "Train Epoch:85  |Loss: 0.336 | Acc: 0.868\n",
      "Eval Epoch: 85 | Loss: 0.305 | Acc: 0.847\n",
      "Train Epoch:86  |Loss: 0.283 | Acc: 0.888\n",
      "Eval Epoch: 86 | Loss: 0.297 | Acc: 0.862\n",
      "Train Epoch:87  |Loss: 0.288 | Acc: 0.887\n",
      "Eval Epoch: 87 | Loss: 0.290 | Acc: 0.887\n",
      "Train Epoch:88  |Loss: 0.279 | Acc: 0.890\n",
      "Eval Epoch: 88 | Loss: 0.273 | Acc: 0.892\n",
      "Train Epoch:89  |Loss: 0.283 | Acc: 0.887\n",
      "Eval Epoch: 89 | Loss: 0.311 | Acc: 0.847\n",
      "Train Epoch:90  |Loss: 0.279 | Acc: 0.889\n",
      "Eval Epoch: 90 | Loss: 0.301 | Acc: 0.887\n",
      "saving....\n",
      "Train Epoch:91  |Loss: 0.295 | Acc: 0.887\n",
      "Eval Epoch: 91 | Loss: 0.280 | Acc: 0.887\n",
      "Train Epoch:92  |Loss: 0.281 | Acc: 0.888\n",
      "Eval Epoch: 92 | Loss: 0.303 | Acc: 0.867\n",
      "Train Epoch:93  |Loss: 0.277 | Acc: 0.893\n",
      "Eval Epoch: 93 | Loss: 0.320 | Acc: 0.862\n",
      "Train Epoch:94  |Loss: 0.293 | Acc: 0.879\n",
      "Eval Epoch: 94 | Loss: 0.298 | Acc: 0.847\n",
      "Train Epoch:95  |Loss: 0.287 | Acc: 0.888\n",
      "Eval Epoch: 95 | Loss: 0.288 | Acc: 0.877\n"
     ]
    },
    {
     "name": "stdout",
     "output_type": "stream",
     "text": [
      "Train Epoch:96  |Loss: 0.285 | Acc: 0.886\n",
      "Eval Epoch: 96 | Loss: 0.313 | Acc: 0.852\n",
      "Train Epoch:97  |Loss: 0.312 | Acc: 0.869\n",
      "Eval Epoch: 97 | Loss: 0.286 | Acc: 0.867\n",
      "Train Epoch:98  |Loss: 0.269 | Acc: 0.896\n",
      "Eval Epoch: 98 | Loss: 0.402 | Acc: 0.847\n",
      "Train Epoch:99  |Loss: 0.306 | Acc: 0.883\n",
      "Eval Epoch: 99 | Loss: 0.311 | Acc: 0.857\n",
      "The best validation accuracy is 0.9014778325123153.\n"
     ]
    }
   ],
   "source": [
    "best_acc=0\n",
    "early_stop_count = 0\n",
    "\n",
    "for epoch in range(100):\n",
    "  \n",
    "    acc=[]\n",
    "    loss_list = []\n",
    "    gnnNets.train()\n",
    "    for batch in dataloader['train']:\n",
    "        logits, probs, _ = gnnNets(batch)\n",
    "        loss = criterion(logits, batch.y)\n",
    "\n",
    "        # optimization\n",
    "        optimizer.zero_grad()\n",
    "        loss.backward()\n",
    "        torch.nn.utils.clip_grad_value_(gnnNets.parameters(), clip_value=2.0)\n",
    "        optimizer.step()\n",
    "\n",
    "        ## record\n",
    "        _, prediction = torch.max(logits, -1)\n",
    "        loss_list.append(loss.item())\n",
    "        acc.append(prediction.eq(batch.y).cpu().numpy())\n",
    "        \n",
    "    # report train msg\n",
    "    print(f\"Train Epoch:{epoch}  |Loss: {np.average(loss_list):.3f} | \"\n",
    "          f\"Acc: {np.concatenate(acc, axis=0).mean():.3f}\")\n",
    " \n",
    "   \n",
    "    # report eval msg\n",
    "    eval_state = evaluate_GC(dataloader['eval'], gnnNets, criterion)\n",
    "    print(f\"Eval Epoch: {epoch} | Loss: {eval_state['loss']:.3f} | Acc: {eval_state['acc']:.3f}\")\n",
    "    \n",
    "    # only save the best model\n",
    "    is_best = (eval_state['acc'] > best_acc)\n",
    "\n",
    "    if eval_state['acc'] > best_acc:\n",
    "        early_stop_count = 0\n",
    "    else:\n",
    "        early_stop_count += 1\n",
    "\n",
    "    if early_stop_count > train_args.early_stopping:\n",
    "        break\n",
    "\n",
    "    if is_best:\n",
    "        best_acc = eval_state['acc']\n",
    "        early_stop_count = 0\n",
    "    if is_best or epoch % train_args.save_epoch == 0:\n",
    "        save_best(ckpt_dir, epoch, gnnNets, model_args.model_name, eval_state['acc'], is_best)\n",
    "\n",
    "print(f\"The best validation accuracy is {best_acc}.\")\n",
    "  \n"
   ]
  },
  {
   "cell_type": "code",
   "execution_count": 34,
   "id": "67f2c23e",
   "metadata": {},
   "outputs": [
    {
     "name": "stdout",
     "output_type": "stream",
     "text": [
      "Acc: 0.883\n"
     ]
    }
   ],
   "source": [
    " print(f\"Acc: {np.concatenate(acc, axis=0).mean():.3f}\")"
   ]
  },
  {
   "cell_type": "markdown",
   "id": "5429358a",
   "metadata": {},
   "source": [
    "### Evaluation "
   ]
  },
  {
   "cell_type": "code",
   "execution_count": 35,
   "id": "7825dd83",
   "metadata": {},
   "outputs": [
    {
     "name": "stdout",
     "output_type": "stream",
     "text": [
      "The best validation accuracy is 0.9014778325123153.\n",
      "Test: | Loss: 0.511 | Acc: 0.824\n"
     ]
    }
   ],
   "source": [
    "print(f\"The best validation accuracy is {best_acc}.\")\n",
    "# report test msg\n",
    "checkpoint = torch.load(os.path.join(ckpt_dir, f'{model_args.model_name}_best.pth'))\n",
    "gnnNets.update_state_dict(checkpoint['net'])\n",
    "test_state, _, _ = test_GC(dataloader['test'], gnnNets, criterion)\n",
    "print(f\"Test: | Loss: {test_state['loss']:.3f} | Acc: {test_state['acc']:.3f}\")"
   ]
  },
  {
   "cell_type": "code",
   "execution_count": 36,
   "id": "9711dc14",
   "metadata": {},
   "outputs": [
    {
     "data": {
      "text/plain": [
       "Text(0.5, 0, 'Epoch')"
      ]
     },
     "execution_count": 36,
     "metadata": {},
     "output_type": "execute_result"
    },
    {
     "data": {
      "image/png": "[encoded data removed]",
      "text/plain": [
       "<Figure size 1440x720 with 1 Axes>"
      ]
     },
     "metadata": {
      "needs_background": "light"
     },
     "output_type": "display_data"
    }
   ],
   "source": [
    "plt.figure(figsize=(20, 10))\n",
    "plt.rcParams.update({'font.size': 15})\n",
    "plt.plot(loss_list)\n",
    "#plt.plot(val_loss)\n",
    "plt.title('Model loss')\n",
    "plt.ylabel('Loss')\n",
    "plt.xlabel('Epoch')\n",
    "#plt.legend(['Train', 'Val'], loc='upper left')\n",
    "#plt.savefig('Images/LSTM_Accuracy_Loss.png')"
   ]
  }
 ],
 "metadata": {
  "kernelspec": {
   "display_name": "Python 3 (ipykernel)",
   "language": "python",
   "name": "python3"
  },
  "language_info": {
   "codemirror_mode": {
    "name": "ipython",
    "version": 3
   },
   "file_extension": ".py",
   "mimetype": "text/x-python",
   "name": "python",
   "nbconvert_exporter": "python",
   "pygments_lexer": "ipython3",
   "version": "3.10.6"
  }
 },
 "nbformat": 4,
 "nbformat_minor": 5
}
